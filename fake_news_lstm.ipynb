{
 "cells": [
  {
   "cell_type": "code",
   "execution_count": 47,
   "metadata": {
    "collapsed": true
   },
   "outputs": [],
   "source": [
    "# source: https://www.kaggle.com/code/atishadhikari/fake-news-cleaning-word2vec-lstm-99-accuracy\n",
    "\n",
    "import warnings\n",
    "\n",
    "warnings.filterwarnings('ignore')\n",
    "\n",
    "import numpy as np\n",
    "import pandas as pd\n",
    "import matplotlib.pyplot as plt\n",
    "import seaborn as sns\n",
    "import nltk\n",
    "import re\n",
    "from wordcloud import WordCloud\n",
    "\n",
    "from keras.preprocessing.text import Tokenizer\n",
    "from keras.utils.data_utils import pad_sequences\n",
    "from keras.models import Sequential\n",
    "from keras.layers import Dense, Embedding, LSTM, Conv1D, MaxPool1D\n",
    "from sklearn.model_selection import train_test_split\n",
    "from sklearn.metrics import classification_report, accuracy_score, precision_score, recall_score, f1_score"
   ]
  },
  {
   "cell_type": "code",
   "execution_count": 48,
   "outputs": [
    {
     "data": {
      "text/plain": "                                               title  \\\n0   Donald Trump Sends Out Embarrassing New Year’...   \n1   Drunk Bragging Trump Staffer Started Russian ...   \n2   Sheriff David Clarke Becomes An Internet Joke...   \n3   Trump Is So Obsessed He Even Has Obama’s Name...   \n4   Pope Francis Just Called Out Donald Trump Dur...   \n\n                                                text subject  \\\n0  Donald Trump just couldn t wish all Americans ...    News   \n1  House Intelligence Committee Chairman Devin Nu...    News   \n2  On Friday, it was revealed that former Milwauk...    News   \n3  On Christmas day, Donald Trump announced that ...    News   \n4  Pope Francis used his annual Christmas Day mes...    News   \n\n                date  \n0  December 31, 2017  \n1  December 31, 2017  \n2  December 30, 2017  \n3  December 29, 2017  \n4  December 25, 2017  ",
      "text/html": "<div>\n<style scoped>\n    .dataframe tbody tr th:only-of-type {\n        vertical-align: middle;\n    }\n\n    .dataframe tbody tr th {\n        vertical-align: top;\n    }\n\n    .dataframe thead th {\n        text-align: right;\n    }\n</style>\n<table border=\"1\" class=\"dataframe\">\n  <thead>\n    <tr style=\"text-align: right;\">\n      <th></th>\n      <th>title</th>\n      <th>text</th>\n      <th>subject</th>\n      <th>date</th>\n    </tr>\n  </thead>\n  <tbody>\n    <tr>\n      <th>0</th>\n      <td>Donald Trump Sends Out Embarrassing New Year’...</td>\n      <td>Donald Trump just couldn t wish all Americans ...</td>\n      <td>News</td>\n      <td>December 31, 2017</td>\n    </tr>\n    <tr>\n      <th>1</th>\n      <td>Drunk Bragging Trump Staffer Started Russian ...</td>\n      <td>House Intelligence Committee Chairman Devin Nu...</td>\n      <td>News</td>\n      <td>December 31, 2017</td>\n    </tr>\n    <tr>\n      <th>2</th>\n      <td>Sheriff David Clarke Becomes An Internet Joke...</td>\n      <td>On Friday, it was revealed that former Milwauk...</td>\n      <td>News</td>\n      <td>December 30, 2017</td>\n    </tr>\n    <tr>\n      <th>3</th>\n      <td>Trump Is So Obsessed He Even Has Obama’s Name...</td>\n      <td>On Christmas day, Donald Trump announced that ...</td>\n      <td>News</td>\n      <td>December 29, 2017</td>\n    </tr>\n    <tr>\n      <th>4</th>\n      <td>Pope Francis Just Called Out Donald Trump Dur...</td>\n      <td>Pope Francis used his annual Christmas Day mes...</td>\n      <td>News</td>\n      <td>December 25, 2017</td>\n    </tr>\n  </tbody>\n</table>\n</div>"
     },
     "execution_count": 48,
     "metadata": {},
     "output_type": "execute_result"
    }
   ],
   "source": [
    "fake = pd.read_csv(\"./data/Fake_del_hashtag.csv\")\n",
    "\n",
    "fake.head()"
   ],
   "metadata": {
    "collapsed": false
   }
  },
  {
   "cell_type": "code",
   "execution_count": 49,
   "outputs": [
    {
     "name": "stdout",
     "output_type": "stream",
     "text": [
      "News:\t9050\n",
      "politics:\t6841\n",
      "left-news:\t4459\n",
      "Government News:\t1570\n",
      "US_News:\t783\n",
      "Middle-east:\t778\n",
      "Total Records:\t23481\n"
     ]
    }
   ],
   "source": [
    "# Counting by Subjects\n",
    "for key, count in fake.subject.value_counts().items():\n",
    "    print(f\"{key}:\\t{count}\")\n",
    "\n",
    "# Getting Total Rows\n",
    "print(f\"Total Records:\\t{fake.shape[0]}\")"
   ],
   "metadata": {
    "collapsed": false
   }
  },
  {
   "cell_type": "code",
   "execution_count": 50,
   "outputs": [
    {
     "data": {
      "text/plain": "<Figure size 800x500 with 1 Axes>",
      "image/png": "[encoded data removed]"
     },
     "metadata": {},
     "output_type": "display_data"
    }
   ],
   "source": [
    "plt.figure(figsize=(8,5))\n",
    "sns.countplot(x=\"subject\", data=fake)\n",
    "plt.show()"
   ],
   "metadata": {
    "collapsed": false
   }
  },
  {
   "cell_type": "code",
   "execution_count": 51,
   "outputs": [
    {
     "data": {
      "text/plain": "                                               title  \\\n0  As U.S. budget fight looms, Republicans flip t...   \n1  U.S. military to accept transgender recruits o...   \n2  Senior U.S. Republican senator: 'Let Mr. Muell...   \n3  FBI Russia probe helped by Australian diplomat...   \n4  Trump wants Postal Service to charge 'much mor...   \n\n                                                text       subject  \\\n0  WASHINGTON (Reuters) - The head of a conservat...  politicsNews   \n1  WASHINGTON (Reuters) - Transgender people will...  politicsNews   \n2  WASHINGTON (Reuters) - The special counsel inv...  politicsNews   \n3  WASHINGTON (Reuters) - Trump campaign adviser ...  politicsNews   \n4  SEATTLE/WASHINGTON (Reuters) - President Donal...  politicsNews   \n\n                 date  \n0  December 31, 2017   \n1  December 29, 2017   \n2  December 31, 2017   \n3  December 30, 2017   \n4  December 29, 2017   ",
      "text/html": "<div>\n<style scoped>\n    .dataframe tbody tr th:only-of-type {\n        vertical-align: middle;\n    }\n\n    .dataframe tbody tr th {\n        vertical-align: top;\n    }\n\n    .dataframe thead th {\n        text-align: right;\n    }\n</style>\n<table border=\"1\" class=\"dataframe\">\n  <thead>\n    <tr style=\"text-align: right;\">\n      <th></th>\n      <th>title</th>\n      <th>text</th>\n      <th>subject</th>\n      <th>date</th>\n    </tr>\n  </thead>\n  <tbody>\n    <tr>\n      <th>0</th>\n      <td>As U.S. budget fight looms, Republicans flip t...</td>\n      <td>WASHINGTON (Reuters) - The head of a conservat...</td>\n      <td>politicsNews</td>\n      <td>December 31, 2017</td>\n    </tr>\n    <tr>\n      <th>1</th>\n      <td>U.S. military to accept transgender recruits o...</td>\n      <td>WASHINGTON (Reuters) - Transgender people will...</td>\n      <td>politicsNews</td>\n      <td>December 29, 2017</td>\n    </tr>\n    <tr>\n      <th>2</th>\n      <td>Senior U.S. Republican senator: 'Let Mr. Muell...</td>\n      <td>WASHINGTON (Reuters) - The special counsel inv...</td>\n      <td>politicsNews</td>\n      <td>December 31, 2017</td>\n    </tr>\n    <tr>\n      <th>3</th>\n      <td>FBI Russia probe helped by Australian diplomat...</td>\n      <td>WASHINGTON (Reuters) - Trump campaign adviser ...</td>\n      <td>politicsNews</td>\n      <td>December 30, 2017</td>\n    </tr>\n    <tr>\n      <th>4</th>\n      <td>Trump wants Postal Service to charge 'much mor...</td>\n      <td>SEATTLE/WASHINGTON (Reuters) - President Donal...</td>\n      <td>politicsNews</td>\n      <td>December 29, 2017</td>\n    </tr>\n  </tbody>\n</table>\n</div>"
     },
     "execution_count": 51,
     "metadata": {},
     "output_type": "execute_result"
    }
   ],
   "source": [
    "real = pd.read_csv(\"./data/True_del_hashtag.csv\")\n",
    "real.head()"
   ],
   "metadata": {
    "collapsed": false
   }
  },
  {
   "cell_type": "code",
   "execution_count": 52,
   "outputs": [],
   "source": [
    "#First Creating list of index that do not have publication part\n",
    "unknown_publishers = []\n",
    "for index,row in enumerate(real.text.values):\n",
    "    try:\n",
    "        record = row.split(\" -\", maxsplit=1)\n",
    "        #if no text part is present, following will give error\n",
    "        record[1]\n",
    "        #if len of piblication part is greater than 260\n",
    "        #following will give error, ensuring no text having \"-\" in between is counted\n",
    "        assert(len(record[0]) < 260)\n",
    "    except:\n",
    "        unknown_publishers.append(index)"
   ],
   "metadata": {
    "collapsed": false
   }
  },
  {
   "cell_type": "code",
   "execution_count": 53,
   "outputs": [
    {
     "data": {
      "text/plain": "3488     The White House on Wednesday disclosed a group...\n4358     Neil Gorsuch, President Donald Trump’s appoint...\n4465     WASHINGTON The clock began running out this we...\n5784     Federal appeals court judge Neil Gorsuch, the ...\n6660     Republican members of Congress are complaining...\n6823     Over the course of the U.S. presidential campa...\n7922     After going through a week reminiscent of Napo...\n8194     The following timeline charts the origin and s...\n8195     Global health officials are racing to better u...\n8247     U.S. President Barack Obama visited a street m...\n8465     ALGONAC, MICH.—Parker Fox drifted out of the D...\n8481     Global health officials are racing to better u...\n8482     The following timeline charts the origin and s...\n8505     Global health officials are racing to better u...\n8506     The following timeline charts the origin and s...\n8771     In a speech weighted with America’s complicate...\n8970                                                      \n9008     The following timeline charts the origin and s...\n9009     Global health officials are racing to better u...\n9307     It’s the near future, and North Korea’s regime...\n9618     GOP leaders have unleashed a stunning level of...\n9737     Caitlyn Jenner posted a video on Wednesday (Ap...\n10479    The Democratic and Republican nominees for the...\nName: text, dtype: object"
     },
     "execution_count": 53,
     "metadata": {},
     "output_type": "execute_result"
    }
   ],
   "source": [
    "#Thus we have list of indices where publisher is not mentioned\n",
    "#lets check\n",
    "real.iloc[unknown_publishers].text\n",
    "#true, they do not have text like \"WASHINGTON (Reuters)\""
   ],
   "metadata": {
    "collapsed": false
   }
  },
  {
   "cell_type": "code",
   "execution_count": 54,
   "outputs": [
    {
     "data": {
      "text/plain": "title      Graphic: Supreme Court roundup\ntext                                     \nsubject                      politicsNews\ndate                       June 16, 2016 \nName: 8970, dtype: object"
     },
     "execution_count": 54,
     "metadata": {},
     "output_type": "execute_result"
    }
   ],
   "source": [
    "real.iloc[8970]\n",
    "#yep empty\n",
    "#will remove this soon"
   ],
   "metadata": {
    "collapsed": false
   }
  },
  {
   "cell_type": "code",
   "execution_count": 55,
   "outputs": [],
   "source": [
    "#Seperating Publication info, from actual text\n",
    "publisher = []\n",
    "tmp_text = []\n",
    "for index,row in enumerate(real.text.values):\n",
    "    if index in unknown_publishers:\n",
    "        #Add unknown of publisher not mentioned\n",
    "        tmp_text.append(row)\n",
    "\n",
    "        publisher.append(\"Unknown\")\n",
    "        continue\n",
    "    record = row.split(\" -\", maxsplit=1)\n",
    "    publisher.append(record[0])\n",
    "    tmp_text.append(record[1])"
   ],
   "metadata": {
    "collapsed": false
   }
  },
  {
   "cell_type": "code",
   "execution_count": 56,
   "outputs": [],
   "source": [
    "#Replace existing text column with new text\n",
    "#add seperate column for publication info\n",
    "real[\"publisher\"] = publisher\n",
    "real[\"text\"] = tmp_text\n",
    "\n",
    "del publisher, tmp_text, record, unknown_publishers"
   ],
   "metadata": {
    "collapsed": false
   }
  },
  {
   "cell_type": "code",
   "execution_count": 57,
   "outputs": [
    {
     "data": {
      "text/plain": "                                               title  \\\n0  As U.S. budget fight looms, Republicans flip t...   \n1  U.S. military to accept transgender recruits o...   \n2  Senior U.S. Republican senator: 'Let Mr. Muell...   \n3  FBI Russia probe helped by Australian diplomat...   \n4  Trump wants Postal Service to charge 'much mor...   \n\n                                                text       subject  \\\n0   The head of a conservative Republican faction...  politicsNews   \n1   Transgender people will be allowed for the fi...  politicsNews   \n2   The special counsel investigation of links be...  politicsNews   \n3   Trump campaign adviser George Papadopoulos to...  politicsNews   \n4   President Donald Trump called on the U.S. Pos...  politicsNews   \n\n                 date                     publisher  \n0  December 31, 2017           WASHINGTON (Reuters)  \n1  December 29, 2017           WASHINGTON (Reuters)  \n2  December 31, 2017           WASHINGTON (Reuters)  \n3  December 30, 2017           WASHINGTON (Reuters)  \n4  December 29, 2017   SEATTLE/WASHINGTON (Reuters)  ",
      "text/html": "<div>\n<style scoped>\n    .dataframe tbody tr th:only-of-type {\n        vertical-align: middle;\n    }\n\n    .dataframe tbody tr th {\n        vertical-align: top;\n    }\n\n    .dataframe thead th {\n        text-align: right;\n    }\n</style>\n<table border=\"1\" class=\"dataframe\">\n  <thead>\n    <tr style=\"text-align: right;\">\n      <th></th>\n      <th>title</th>\n      <th>text</th>\n      <th>subject</th>\n      <th>date</th>\n      <th>publisher</th>\n    </tr>\n  </thead>\n  <tbody>\n    <tr>\n      <th>0</th>\n      <td>As U.S. budget fight looms, Republicans flip t...</td>\n      <td>The head of a conservative Republican faction...</td>\n      <td>politicsNews</td>\n      <td>December 31, 2017</td>\n      <td>WASHINGTON (Reuters)</td>\n    </tr>\n    <tr>\n      <th>1</th>\n      <td>U.S. military to accept transgender recruits o...</td>\n      <td>Transgender people will be allowed for the fi...</td>\n      <td>politicsNews</td>\n      <td>December 29, 2017</td>\n      <td>WASHINGTON (Reuters)</td>\n    </tr>\n    <tr>\n      <th>2</th>\n      <td>Senior U.S. Republican senator: 'Let Mr. Muell...</td>\n      <td>The special counsel investigation of links be...</td>\n      <td>politicsNews</td>\n      <td>December 31, 2017</td>\n      <td>WASHINGTON (Reuters)</td>\n    </tr>\n    <tr>\n      <th>3</th>\n      <td>FBI Russia probe helped by Australian diplomat...</td>\n      <td>Trump campaign adviser George Papadopoulos to...</td>\n      <td>politicsNews</td>\n      <td>December 30, 2017</td>\n      <td>WASHINGTON (Reuters)</td>\n    </tr>\n    <tr>\n      <th>4</th>\n      <td>Trump wants Postal Service to charge 'much mor...</td>\n      <td>President Donald Trump called on the U.S. Pos...</td>\n      <td>politicsNews</td>\n      <td>December 29, 2017</td>\n      <td>SEATTLE/WASHINGTON (Reuters)</td>\n    </tr>\n  </tbody>\n</table>\n</div>"
     },
     "execution_count": 57,
     "metadata": {},
     "output_type": "execute_result"
    }
   ],
   "source": [
    "real.head()"
   ],
   "metadata": {
    "collapsed": false
   }
  },
  {
   "cell_type": "code",
   "execution_count": 58,
   "outputs": [
    {
     "data": {
      "text/plain": "[8970]"
     },
     "execution_count": 58,
     "metadata": {},
     "output_type": "execute_result"
    }
   ],
   "source": [
    "#checking for rows with empty text like row:8970\n",
    "[index for index,text in enumerate(real.text.values) if str(text).strip() == '']\n",
    "#seems only one :)"
   ],
   "metadata": {
    "collapsed": false
   }
  },
  {
   "cell_type": "code",
   "execution_count": 59,
   "outputs": [],
   "source": [
    "#dropping this record\n",
    "real = real.drop(8970, axis=0)"
   ],
   "metadata": {
    "collapsed": false
   }
  },
  {
   "cell_type": "code",
   "execution_count": 60,
   "outputs": [
    {
     "name": "stdout",
     "output_type": "stream",
     "text": [
      "No of empty rows: 630\n"
     ]
    },
    {
     "data": {
      "text/plain": "                                                   title text    subject  \\\n21816  BALTIMORE BURNS: MARYLAND GOVERNOR BRINGS IN N...       left-news   \n21826  FULL VIDEO: THE BLOCKBUSTER INVESTIGATION INTO...       left-news   \n21827  (VIDEO) HILLARY CLINTON: RELIGIOUS BELIEFS MUS...       left-news   \n21857  (VIDEO)ICE PROTECTING OBAMA: WON’T RELEASE NAM...       left-news   \n21873  (VIDEO) HYSTERICAL SNL TAKE ON HILLARY’S ANNOU...       left-news   \n\n               date  \n21816  Apr 27, 2015  \n21826  Apr 25, 2015  \n21827  Apr 25, 2015  \n21857  Apr 14, 2015  \n21873  Apr 12, 2015  ",
      "text/html": "<div>\n<style scoped>\n    .dataframe tbody tr th:only-of-type {\n        vertical-align: middle;\n    }\n\n    .dataframe tbody tr th {\n        vertical-align: top;\n    }\n\n    .dataframe thead th {\n        text-align: right;\n    }\n</style>\n<table border=\"1\" class=\"dataframe\">\n  <thead>\n    <tr style=\"text-align: right;\">\n      <th></th>\n      <th>title</th>\n      <th>text</th>\n      <th>subject</th>\n      <th>date</th>\n    </tr>\n  </thead>\n  <tbody>\n    <tr>\n      <th>21816</th>\n      <td>BALTIMORE BURNS: MARYLAND GOVERNOR BRINGS IN N...</td>\n      <td></td>\n      <td>left-news</td>\n      <td>Apr 27, 2015</td>\n    </tr>\n    <tr>\n      <th>21826</th>\n      <td>FULL VIDEO: THE BLOCKBUSTER INVESTIGATION INTO...</td>\n      <td></td>\n      <td>left-news</td>\n      <td>Apr 25, 2015</td>\n    </tr>\n    <tr>\n      <th>21827</th>\n      <td>(VIDEO) HILLARY CLINTON: RELIGIOUS BELIEFS MUS...</td>\n      <td></td>\n      <td>left-news</td>\n      <td>Apr 25, 2015</td>\n    </tr>\n    <tr>\n      <th>21857</th>\n      <td>(VIDEO)ICE PROTECTING OBAMA: WON’T RELEASE NAM...</td>\n      <td></td>\n      <td>left-news</td>\n      <td>Apr 14, 2015</td>\n    </tr>\n    <tr>\n      <th>21873</th>\n      <td>(VIDEO) HYSTERICAL SNL TAKE ON HILLARY’S ANNOU...</td>\n      <td></td>\n      <td>left-news</td>\n      <td>Apr 12, 2015</td>\n    </tr>\n  </tbody>\n</table>\n</div>"
     },
     "execution_count": 60,
     "metadata": {},
     "output_type": "execute_result"
    }
   ],
   "source": [
    "# checking for the same in fake news\n",
    "empty_fake_index = [index for index,text in enumerate(fake.text.values) if str(text).strip() == '']\n",
    "print(f\"No of empty rows: {len(empty_fake_index)}\")\n",
    "fake.iloc[empty_fake_index].tail()"
   ],
   "metadata": {
    "collapsed": false
   }
  },
  {
   "cell_type": "code",
   "execution_count": 61,
   "outputs": [
    {
     "name": "stdout",
     "output_type": "stream",
     "text": [
      "Total Records:\t21416\n",
      "politicsNews:\t11271\n",
      "worldnews:\t10145\n"
     ]
    }
   ],
   "source": [
    "#Getting Total Rows\n",
    "print(f\"Total Records:\\t{real.shape[0]}\")\n",
    "\n",
    "#Counting by Subjects\n",
    "for key,count in real.subject.value_counts().items():\n",
    "  print(f\"{key}:\\t{count}\")"
   ],
   "metadata": {
    "collapsed": false
   }
  },
  {
   "cell_type": "code",
   "execution_count": 62,
   "outputs": [
    {
     "data": {
      "text/plain": "<Figure size 640x480 with 1 Axes>",
      "image/png": "[encoded data removed]"
     },
     "metadata": {},
     "output_type": "display_data"
    }
   ],
   "source": [
    "sns.countplot(x=\"subject\", data=real)\n",
    "plt.show()"
   ],
   "metadata": {
    "collapsed": false
   }
  },
  {
   "cell_type": "code",
   "execution_count": 63,
   "outputs": [],
   "source": [
    "# Adding class Information\n",
    "real[\"class\"] = 1\n",
    "fake[\"class\"] = 0"
   ],
   "metadata": {
    "collapsed": false
   }
  },
  {
   "cell_type": "code",
   "execution_count": 64,
   "outputs": [],
   "source": [
    "#Combining Title and Text\n",
    "real[\"text\"] = real[\"title\"] + \" \" + real[\"text\"]\n",
    "fake[\"text\"] = fake[\"title\"] + \" \" + fake[\"text\"]"
   ],
   "metadata": {
    "collapsed": false
   }
  },
  {
   "cell_type": "code",
   "execution_count": 65,
   "outputs": [],
   "source": [
    "# Subject is diffrent for real and fake thus dropping it\n",
    "# Aldo dropping Date, title and Publication Info of real\n",
    "real = real.drop([\"subject\", \"date\",\"title\",  \"publisher\"], axis=1)\n",
    "fake = fake.drop([\"subject\", \"date\", \"title\"], axis=1)"
   ],
   "metadata": {
    "collapsed": false
   }
  },
  {
   "cell_type": "code",
   "execution_count": 66,
   "outputs": [],
   "source": [
    "#Combining both into new dataframe\n",
    "data = pd.concat([real, fake], ignore_index=True)\n",
    "del real, fake"
   ],
   "metadata": {
    "collapsed": false
   }
  },
  {
   "cell_type": "code",
   "execution_count": 67,
   "outputs": [
    {
     "name": "stderr",
     "output_type": "stream",
     "text": [
      "[nltk_data] Downloading package stopwords to\n",
      "[nltk_data]     C:\\Users\\dagma\\AppData\\Roaming\\nltk_data...\n",
      "[nltk_data]   Package stopwords is already up-to-date!\n",
      "[nltk_data] Downloading package punkt to\n",
      "[nltk_data]     C:\\Users\\dagma\\AppData\\Roaming\\nltk_data...\n",
      "[nltk_data]   Package punkt is already up-to-date!\n"
     ]
    },
    {
     "data": {
      "text/plain": "True"
     },
     "execution_count": 67,
     "metadata": {},
     "output_type": "execute_result"
    }
   ],
   "source": [
    "nltk.download('stopwords')\n",
    "nltk.download('punkt')"
   ],
   "metadata": {
    "collapsed": false
   }
  },
  {
   "cell_type": "code",
   "execution_count": 68,
   "outputs": [],
   "source": [
    "y = data[\"class\"].values\n",
    "#Converting X to format acceptable by gensim, removing annd punctuation stopwords in the process\n",
    "X = []\n",
    "stop_words = set(nltk.corpus.stopwords.words(\"english\"))\n",
    "tokenizer = nltk.tokenize.RegexpTokenizer(r'\\w+')\n",
    "for par in data[\"text\"].values:\n",
    "    tmp = []\n",
    "    sentences = nltk.sent_tokenize(par)\n",
    "    for sent in sentences:\n",
    "        sent = sent.lower()\n",
    "        tokens = tokenizer.tokenize(sent)\n",
    "        filtered_words = [w.strip() for w in tokens if w not in stop_words and len(w) > 1]\n",
    "        tmp.extend(filtered_words)\n",
    "    X.append(tmp)\n",
    "\n",
    "del data"
   ],
   "metadata": {
    "collapsed": false
   }
  },
  {
   "cell_type": "code",
   "execution_count": 69,
   "outputs": [],
   "source": [
    "import gensim"
   ],
   "metadata": {
    "collapsed": false
   }
  },
  {
   "cell_type": "code",
   "execution_count": 70,
   "outputs": [],
   "source": [
    "#Dimension of vectors we are generating\n",
    "EMBEDDING_DIM = 100\n",
    "\n",
    "#Creating Word Vectors by Word2Vec Method (takes time...)\n",
    "w2v_model = gensim.models.Word2Vec(sentences=X, vector_size=EMBEDDING_DIM, window=5, min_count=1)"
   ],
   "metadata": {
    "collapsed": false
   }
  },
  {
   "cell_type": "code",
   "execution_count": 71,
   "outputs": [
    {
     "data": {
      "text/plain": "122333"
     },
     "execution_count": 71,
     "metadata": {},
     "output_type": "execute_result"
    }
   ],
   "source": [
    "#vocab size\n",
    "len(w2v_model.wv.index_to_key)\n",
    "\n",
    "#We have now represented each of 122248 words by a 100dim vector."
   ],
   "metadata": {
    "collapsed": false
   }
  },
  {
   "cell_type": "code",
   "execution_count": 72,
   "outputs": [
    {
     "data": {
      "text/plain": "array([ 0.0105832 ,  0.01110497, -0.00603866,  0.00958166,  0.01679467,\n       -0.0045197 ,  0.10345812,  0.07507852, -0.02125779, -0.07017027,\n       -0.04768731, -0.00329743,  0.01507289, -0.01724575,  0.02189476,\n       -0.07427832, -0.03471747, -0.04451355,  0.02592455, -0.01918528,\n       -0.04857581,  0.045081  , -0.04677259, -0.04874604,  0.075766  ,\n        0.04511417, -0.06390328,  0.02273214, -0.00254498,  0.00406894,\n        0.01541051, -0.0469932 , -0.03798263, -0.04920206, -0.03234593,\n        0.03026801,  0.00685702, -0.00992936,  0.00513367, -0.03888556,\n       -0.01514544,  0.059526  , -0.0789489 , -0.03818368,  0.0837298 ,\n        0.05432347, -0.01645989,  0.0197731 ,  0.0093406 ,  0.03658152,\n        0.0100657 ,  0.00814292,  0.0035814 ,  0.0222139 , -0.00615151,\n        0.08435251, -0.00293403,  0.02336248, -0.0376844 ,  0.11288474,\n       -0.03363892,  0.02489379, -0.00521538,  0.04603484,  0.03824546,\n       -0.00505277, -0.00409192,  0.03218433, -0.03757606,  0.02174287,\n        0.01212128,  0.02818174, -0.03467161,  0.04802535,  0.07548767,\n       -0.00578702, -0.0381012 , -0.031195  , -0.04129516,  0.02338683,\n        0.01096773, -0.0055703 , -0.04187852,  0.05294   , -0.00261709,\n        0.06805438,  0.02220992,  0.03267719, -0.00188029,  0.02528917,\n        0.0009447 ,  0.04683771, -0.00835616, -0.00570723,  0.02241807,\n        0.0005903 , -0.01582371, -0.04886713,  0.02841975,  0.04959022],\n      dtype=float32)"
     },
     "execution_count": 72,
     "metadata": {},
     "output_type": "execute_result"
    }
   ],
   "source": [
    "#see a sample vector for random word, lets say Corona\n",
    "w2v_model.wv[\"corona\"]"
   ],
   "metadata": {
    "collapsed": false
   }
  },
  {
   "cell_type": "code",
   "execution_count": 73,
   "outputs": [
    {
     "data": {
      "text/plain": "[('tehran', 0.901603102684021),\n ('iranian', 0.7778300046920776),\n ('iranians', 0.6370635628700256),\n ('destabilizing', 0.6247583031654358),\n ('hezbollah', 0.6191214919090271),\n ('jcpoa', 0.6081749796867371),\n ('riyadh', 0.6057584285736084),\n ('nuclear', 0.6016877889633179),\n ('pyongyang', 0.5926427245140076),\n ('israel', 0.5878822207450867)]"
     },
     "execution_count": 73,
     "metadata": {},
     "output_type": "execute_result"
    }
   ],
   "source": [
    "w2v_model.wv.most_similar(\"iran\")"
   ],
   "metadata": {
    "collapsed": false
   }
  },
  {
   "cell_type": "code",
   "execution_count": 74,
   "outputs": [
    {
     "data": {
      "text/plain": "[('comey', 0.7348544001579285),\n ('cia', 0.6193503737449646),\n ('mueller', 0.6161051988601685),\n ('investigators', 0.6152615547180176),\n ('investigation', 0.5861411690711975),\n ('doj', 0.584226131439209),\n ('investigations', 0.5545183420181274),\n ('probe', 0.5367076396942139),\n ('inquiry', 0.5323750972747803),\n ('nunes', 0.5220969915390015)]"
     },
     "execution_count": 74,
     "metadata": {},
     "output_type": "execute_result"
    }
   ],
   "source": [
    "w2v_model.wv.most_similar(\"fbi\")"
   ],
   "metadata": {
    "collapsed": false
   }
  },
  {
   "cell_type": "code",
   "execution_count": 75,
   "outputs": [
    {
     "data": {
      "text/plain": "[('reddit', 0.6839001774787903),\n ('instagram', 0.6334290504455566),\n ('fb', 0.628210723400116),\n ('google', 0.6143912076950073),\n ('gofundme', 0.5723263025283813),\n ('gizmodohopefully', 0.5700250267982483),\n ('online', 0.5682399868965149),\n ('blog', 0.5631327033042908),\n ('huffington', 0.5605655908584595),\n ('patheosthe', 0.5543521642684937)]"
     },
     "execution_count": 75,
     "metadata": {},
     "output_type": "execute_result"
    }
   ],
   "source": [
    "w2v_model.wv.most_similar(\"facebook\")"
   ],
   "metadata": {
    "collapsed": false
   }
  },
  {
   "cell_type": "code",
   "execution_count": 76,
   "outputs": [
    {
     "data": {
      "text/plain": "[('computers', 0.8258867263793945),\n ('software', 0.7890587449073792),\n ('electronic', 0.7688973546028137),\n ('malware', 0.7664406895637512),\n ('laptop', 0.7511839866638184),\n ('kaspersky', 0.7299817204475403),\n ('scanning', 0.7144132852554321),\n ('encrypted', 0.7101070284843445),\n ('accessed', 0.7010766863822937),\n ('servers', 0.6990916132926941)]"
     },
     "execution_count": 76,
     "metadata": {},
     "output_type": "execute_result"
    }
   ],
   "source": [
    "w2v_model.wv.most_similar(\"computer\")"
   ],
   "metadata": {
    "collapsed": false
   }
  },
  {
   "cell_type": "code",
   "execution_count": 77,
   "outputs": [
    {
     "data": {
      "text/plain": "[('cruz', 0.5306706428527832),\n ('bush', 0.5233457684516907),\n ('elect', 0.5144397020339966),\n ('hillary', 0.489477276802063),\n ('crooked', 0.48834577202796936),\n ('incoming', 0.47764649987220764),\n ('course', 0.47215861082077026),\n ('actually', 0.45725902915000916),\n ('romney', 0.4510056972503662),\n ('americas_dad', 0.450891375541687)]"
     },
     "execution_count": 77,
     "metadata": {},
     "output_type": "execute_result"
    }
   ],
   "source": [
    "#Feeding US Presidents\n",
    "w2v_model.wv.most_similar(positive=[\"trump\",\"obama\", \"clinton\"])\n",
    "#First was Bush"
   ],
   "metadata": {
    "collapsed": false
   }
  },
  {
   "cell_type": "code",
   "execution_count": 78,
   "outputs": [],
   "source": [
    "# Tokenizing Text -> Repsesenting each word by a number\n",
    "# Mapping of orginal word to number is preserved in word_index property of tokenizer\n",
    "\n",
    "#Tokenized applies basic processing like changing it yo lower case, explicitely setting that as False\n",
    "tokenizer = Tokenizer()\n",
    "tokenizer.fit_on_texts(X)\n",
    "\n",
    "X = tokenizer.texts_to_sequences(X)"
   ],
   "metadata": {
    "collapsed": false
   }
  },
  {
   "cell_type": "code",
   "execution_count": 79,
   "outputs": [
    {
     "data": {
      "text/plain": "[389, 395, 10494, 54, 5509, 1286, 4840, 315, 205, 16]"
     },
     "execution_count": 79,
     "metadata": {},
     "output_type": "execute_result"
    }
   ],
   "source": [
    "# lets check the first 10 words of first news\n",
    "#every word has been represented with a number\n",
    "X[0][:10]"
   ],
   "metadata": {
    "collapsed": false
   }
  },
  {
   "cell_type": "code",
   "execution_count": 80,
   "outputs": [
    {
     "name": "stdout",
     "output_type": "stream",
     "text": [
      "trump -> 1\n",
      "said -> 2\n",
      "president -> 3\n",
      "would -> 4\n",
      "people -> 5\n",
      "one -> 6\n",
      "state -> 7\n",
      "new -> 8\n",
      "obama -> 9\n",
      "also -> 10\n"
     ]
    }
   ],
   "source": [
    "#Lets check few word to numerical replesentation\n",
    "#Mapping is preserved in dictionary -> word_index property of instance\n",
    "word_index = tokenizer.word_index\n",
    "for word, num in word_index.items():\n",
    "    print(f\"{word} -> {num}\")\n",
    "    if num == 10:\n",
    "        break"
   ],
   "metadata": {
    "collapsed": false
   }
  },
  {
   "cell_type": "code",
   "execution_count": 81,
   "outputs": [
    {
     "data": {
      "text/plain": "<Figure size 640x480 with 1 Axes>",
      "image/png": "[encoded data removed]"
     },
     "metadata": {},
     "output_type": "display_data"
    }
   ],
   "source": [
    "# For determining size of input...\n",
    "\n",
    "# Making histogram for no of words in news shows that most news article are under 700 words.\n",
    "# Lets keep each news small and truncate all news to 700 while tokenizing\n",
    "plt.hist([len(x) for x in X], bins=500)\n",
    "plt.show()\n",
    "\n",
    "# Its heavily skewed. There are news with 5000 words? Lets truncate these outliers :)"
   ],
   "metadata": {
    "collapsed": false
   }
  },
  {
   "cell_type": "code",
   "execution_count": 82,
   "outputs": [
    {
     "data": {
      "text/plain": "43984"
     },
     "execution_count": 82,
     "metadata": {},
     "output_type": "execute_result"
    }
   ],
   "source": [
    "nos = np.array([len(x) for x in X])\n",
    "len(nos[nos  < 700])\n",
    "# Out of 48k news, 44k have less than 700 words"
   ],
   "metadata": {
    "collapsed": false
   }
  },
  {
   "cell_type": "code",
   "execution_count": 83,
   "outputs": [],
   "source": [
    "#Lets keep all news to 700, add padding to news with less than 700 words and truncating long ones\n",
    "maxlen = 700\n",
    "\n",
    "#Making all news of size maxlen defined above\n",
    "X = pad_sequences(X, maxlen=maxlen)"
   ],
   "metadata": {
    "collapsed": false
   }
  },
  {
   "cell_type": "code",
   "execution_count": 84,
   "outputs": [
    {
     "data": {
      "text/plain": "700"
     },
     "execution_count": 84,
     "metadata": {},
     "output_type": "execute_result"
    }
   ],
   "source": [
    "#all news has 700 words (in numerical form now). If they had less words, they have been padded with 0\n",
    "# 0 is not associated to any word, as mapping of words started from 1\n",
    "# 0 will also be used later, if unknows word is encountered in test set\n",
    "len(X[0])"
   ],
   "metadata": {
    "collapsed": false
   }
  },
  {
   "cell_type": "code",
   "execution_count": 85,
   "outputs": [],
   "source": [
    "# Adding 1 because of reserved 0 index\n",
    "# Embedding Layer creates one more vector for \"UNKNOWN\" words, or padded words (0s). This Vector is filled with zeros.\n",
    "# Thus our vocab size inceeases by 1\n",
    "vocab_size = len(tokenizer.word_index) + 1"
   ],
   "metadata": {
    "collapsed": false
   }
  },
  {
   "cell_type": "code",
   "execution_count": 86,
   "outputs": [],
   "source": [
    "# Function to create weight matrix from word2vec gensim model\n",
    "def get_weight_matrix(model, vocab):\n",
    "    # total vocabulary size plus 0 for unknown words\n",
    "    vocab_size = len(vocab) + 1\n",
    "    # define weight matrix dimensions with all 0\n",
    "    weight_matrix = np.zeros((vocab_size, EMBEDDING_DIM))\n",
    "    # step vocab, store vectors using the Tokenizer's integer mapping\n",
    "    for word, i in vocab.items():\n",
    "        weight_matrix[i] = model[word]\n",
    "    return weight_matrix"
   ],
   "metadata": {
    "collapsed": false
   }
  },
  {
   "cell_type": "code",
   "execution_count": 87,
   "outputs": [],
   "source": [
    "#Getting embedding vectors from word2vec and usings it as weights of non-trainable keras embedding layer\n",
    "embedding_vectors = get_weight_matrix(w2v_model.wv, word_index)"
   ],
   "metadata": {
    "collapsed": false
   }
  },
  {
   "cell_type": "code",
   "execution_count": 88,
   "outputs": [],
   "source": [
    "#Defining Neural Network\n",
    "def build_model(emb_vectors, EMB_DIM, voc_size, length):\n",
    "    mod = Sequential()\n",
    "    #Non-trainable embeddidng layer\n",
    "    mod.add(Embedding(voc_size, output_dim=EMB_DIM, weights=[emb_vectors], input_length=length, trainable=False))\n",
    "    #LSTM\n",
    "    mod.add(LSTM(units=128))\n",
    "    mod.add(Dense(1, activation='sigmoid'))\n",
    "    mod.compile(optimizer='adam', loss='binary_crossentropy', metrics=['acc'])\n",
    "    return mod\n"
   ],
   "metadata": {
    "collapsed": false
   }
  },
  {
   "cell_type": "code",
   "execution_count": 88,
   "outputs": [],
   "source": [],
   "metadata": {
    "collapsed": false
   }
  },
  {
   "cell_type": "code",
   "execution_count": 89,
   "outputs": [],
   "source": [
    "#Train test split\n",
    "def split(X, y, seed):\n",
    "    X_train, X_test, y_train, y_test = train_test_split(X, y, random_state=seed)\n",
    "    return X_train, X_test, y_train, y_test"
   ],
   "metadata": {
    "collapsed": false
   }
  },
  {
   "cell_type": "code",
   "execution_count": 90,
   "outputs": [],
   "source": [
    "result = []"
   ],
   "metadata": {
    "collapsed": false
   }
  },
  {
   "cell_type": "markdown",
   "source": [],
   "metadata": {
    "collapsed": false
   }
  },
  {
   "cell_type": "code",
   "execution_count": 91,
   "outputs": [
    {
     "name": "stdout",
     "output_type": "stream",
     "text": [
      "Processing iteration 0\n",
      "Epoch 1/6\n",
      "737/737 [==============================] - 223s 299ms/step - loss: 0.1331 - acc: 0.9534 - val_loss: 0.1251 - val_acc: 0.9550\n",
      "Epoch 2/6\n",
      "737/737 [==============================] - 232s 314ms/step - loss: 0.0827 - acc: 0.9716 - val_loss: 0.0398 - val_acc: 0.9853\n",
      "Epoch 3/6\n",
      "737/737 [==============================] - 235s 320ms/step - loss: 0.0363 - acc: 0.9877 - val_loss: 0.0372 - val_acc: 0.9880\n",
      "Epoch 4/6\n",
      "737/737 [==============================] - 239s 324ms/step - loss: 0.0404 - acc: 0.9869 - val_loss: 0.1545 - val_acc: 0.9492\n",
      "Epoch 5/6\n",
      "737/737 [==============================] - 235s 319ms/step - loss: 0.0815 - acc: 0.9710 - val_loss: 0.0568 - val_acc: 0.9819\n",
      "Epoch 6/6\n",
      "737/737 [==============================] - 235s 319ms/step - loss: 0.0673 - acc: 0.9782 - val_loss: 0.0599 - val_acc: 0.9814\n",
      "351/351 [==============================] - 41s 114ms/step\n",
      "Processing iteration 1\n",
      "Epoch 1/6\n",
      "737/737 [==============================] - 236s 317ms/step - loss: 0.1324 - acc: 0.9517 - val_loss: 0.1004 - val_acc: 0.9684\n",
      "Epoch 2/6\n",
      "737/737 [==============================] - 238s 323ms/step - loss: 0.0712 - acc: 0.9751 - val_loss: 0.0773 - val_acc: 0.9744\n",
      "Epoch 3/6\n",
      "737/737 [==============================] - 234s 317ms/step - loss: 0.0402 - acc: 0.9873 - val_loss: 0.0671 - val_acc: 0.9763\n",
      "Epoch 4/6\n",
      "737/737 [==============================] - 234s 317ms/step - loss: 0.0361 - acc: 0.9880 - val_loss: 0.0382 - val_acc: 0.9877\n",
      "Epoch 5/6\n",
      "737/737 [==============================] - 233s 316ms/step - loss: 0.0203 - acc: 0.9932 - val_loss: 0.0286 - val_acc: 0.9895\n",
      "Epoch 6/6\n",
      "737/737 [==============================] - 235s 318ms/step - loss: 0.0117 - acc: 0.9961 - val_loss: 0.0211 - val_acc: 0.9927\n",
      "351/351 [==============================] - 40s 113ms/step\n",
      "Processing iteration 2\n",
      "Epoch 1/6\n",
      "737/737 [==============================] - 256s 345ms/step - loss: 0.1240 - acc: 0.9552 - val_loss: 0.0843 - val_acc: 0.9711\n",
      "Epoch 2/6\n",
      "737/737 [==============================] - 253s 344ms/step - loss: 0.0743 - acc: 0.9748 - val_loss: 0.0577 - val_acc: 0.9811\n",
      "Epoch 3/6\n",
      "737/737 [==============================] - 253s 343ms/step - loss: 0.0437 - acc: 0.9848 - val_loss: 0.0545 - val_acc: 0.9799\n",
      "Epoch 4/6\n",
      "737/737 [==============================] - 253s 343ms/step - loss: 0.0257 - acc: 0.9913 - val_loss: 0.0766 - val_acc: 0.9738\n",
      "Epoch 5/6\n",
      "737/737 [==============================] - 256s 347ms/step - loss: 0.0191 - acc: 0.9938 - val_loss: 0.0429 - val_acc: 0.9854\n",
      "Epoch 6/6\n",
      "737/737 [==============================] - 256s 347ms/step - loss: 0.0185 - acc: 0.9935 - val_loss: 0.0261 - val_acc: 0.9919\n",
      "351/351 [==============================] - 41s 116ms/step\n",
      "Processing iteration 3\n",
      "Epoch 1/6\n",
      "737/737 [==============================] - 263s 354ms/step - loss: 0.1296 - acc: 0.9539 - val_loss: 0.0796 - val_acc: 0.9742\n",
      "Epoch 2/6\n",
      "737/737 [==============================] - 261s 355ms/step - loss: 0.0713 - acc: 0.9760 - val_loss: 0.0663 - val_acc: 0.9771\n",
      "Epoch 3/6\n",
      "737/737 [==============================] - 263s 357ms/step - loss: 0.0601 - acc: 0.9804 - val_loss: 0.0684 - val_acc: 0.9776\n",
      "Epoch 4/6\n",
      "737/737 [==============================] - 263s 357ms/step - loss: 0.0434 - acc: 0.9861 - val_loss: 0.0431 - val_acc: 0.9852\n",
      "Epoch 5/6\n",
      "737/737 [==============================] - 262s 356ms/step - loss: 0.0207 - acc: 0.9936 - val_loss: 0.0361 - val_acc: 0.9883\n",
      "Epoch 6/6\n",
      "737/737 [==============================] - 263s 357ms/step - loss: 0.0193 - acc: 0.9936 - val_loss: 0.0362 - val_acc: 0.9884\n",
      "351/351 [==============================] - 42s 119ms/step\n",
      "Processing iteration 4\n",
      "Epoch 1/6\n",
      "737/737 [==============================] - 249s 334ms/step - loss: 0.1317 - acc: 0.9535 - val_loss: 0.1016 - val_acc: 0.9661\n",
      "Epoch 2/6\n",
      "737/737 [==============================] - 242s 328ms/step - loss: 0.0699 - acc: 0.9760 - val_loss: 0.0578 - val_acc: 0.9808\n",
      "Epoch 3/6\n",
      "737/737 [==============================] - 243s 329ms/step - loss: 0.0343 - acc: 0.9884 - val_loss: 0.0379 - val_acc: 0.9880\n",
      "Epoch 4/6\n",
      "737/737 [==============================] - 241s 327ms/step - loss: 0.0236 - acc: 0.9927 - val_loss: 0.0575 - val_acc: 0.9816\n",
      "Epoch 5/6\n",
      "737/737 [==============================] - 240s 326ms/step - loss: 0.0215 - acc: 0.9930 - val_loss: 0.0356 - val_acc: 0.9878\n",
      "Epoch 6/6\n",
      "737/737 [==============================] - 240s 325ms/step - loss: 0.0118 - acc: 0.9963 - val_loss: 0.0303 - val_acc: 0.9901\n",
      "351/351 [==============================] - 42s 119ms/step\n",
      "Processing iteration 5\n",
      "Epoch 1/6\n",
      "737/737 [==============================] - 241s 324ms/step - loss: 0.1327 - acc: 0.9525 - val_loss: 0.1563 - val_acc: 0.9318\n",
      "Epoch 2/6\n",
      "737/737 [==============================] - 237s 322ms/step - loss: 0.0946 - acc: 0.9655 - val_loss: 0.0727 - val_acc: 0.9759\n",
      "Epoch 3/6\n",
      "737/737 [==============================] - 236s 320ms/step - loss: 0.0632 - acc: 0.9776 - val_loss: 0.0534 - val_acc: 0.9838\n",
      "Epoch 4/6\n",
      "737/737 [==============================] - 389s 528ms/step - loss: 0.0586 - acc: 0.9797 - val_loss: 0.0444 - val_acc: 0.9850\n",
      "Epoch 5/6\n",
      "737/737 [==============================] - 428s 580ms/step - loss: 0.0333 - acc: 0.9891 - val_loss: 0.0349 - val_acc: 0.9882\n",
      "Epoch 6/6\n",
      "737/737 [==============================] - 451s 613ms/step - loss: 0.0190 - acc: 0.9941 - val_loss: 0.0260 - val_acc: 0.9911\n",
      "351/351 [==============================] - 67s 189ms/step\n",
      "Processing iteration 6\n",
      "Epoch 1/6\n",
      "737/737 [==============================] - 517s 698ms/step - loss: 0.1275 - acc: 0.9550 - val_loss: 0.0806 - val_acc: 0.9757\n",
      "Epoch 2/6\n",
      "737/737 [==============================] - 413s 560ms/step - loss: 0.0749 - acc: 0.9730 - val_loss: 0.0644 - val_acc: 0.9791\n",
      "Epoch 3/6\n",
      "737/737 [==============================] - 425s 577ms/step - loss: 0.0583 - acc: 0.9812 - val_loss: 0.0580 - val_acc: 0.9806\n",
      "Epoch 4/6\n",
      "737/737 [==============================] - 405s 550ms/step - loss: 0.0343 - acc: 0.9886 - val_loss: 0.0348 - val_acc: 0.9883\n",
      "Epoch 5/6\n",
      "737/737 [==============================] - 425s 577ms/step - loss: 0.0196 - acc: 0.9935 - val_loss: 0.0246 - val_acc: 0.9920\n",
      "Epoch 6/6\n",
      "737/737 [==============================] - 420s 570ms/step - loss: 0.0126 - acc: 0.9959 - val_loss: 0.0275 - val_acc: 0.9911\n",
      "351/351 [==============================] - 61s 172ms/step\n",
      "Processing iteration 7\n",
      "Epoch 1/6\n"
     ]
    },
    {
     "ename": "KeyboardInterrupt",
     "evalue": "",
     "output_type": "error",
     "traceback": [
      "\u001B[1;31m---------------------------------------------------------------------------\u001B[0m",
      "\u001B[1;31mKeyboardInterrupt\u001B[0m                         Traceback (most recent call last)",
      "Cell \u001B[1;32mIn[91], line 5\u001B[0m\n\u001B[0;32m      3\u001B[0m X_train, X_test, y_train, y_test \u001B[38;5;241m=\u001B[39m split(X, y, n)\n\u001B[0;32m      4\u001B[0m model \u001B[38;5;241m=\u001B[39m build_model(embedding_vectors, EMBEDDING_DIM, vocab_size, maxlen)\n\u001B[1;32m----> 5\u001B[0m \u001B[43mmodel\u001B[49m\u001B[38;5;241;43m.\u001B[39;49m\u001B[43mfit\u001B[49m\u001B[43m(\u001B[49m\u001B[43mX_train\u001B[49m\u001B[43m,\u001B[49m\u001B[43m \u001B[49m\u001B[43my_train\u001B[49m\u001B[43m,\u001B[49m\u001B[43m \u001B[49m\u001B[43mvalidation_split\u001B[49m\u001B[38;5;241;43m=\u001B[39;49m\u001B[38;5;241;43m0.3\u001B[39;49m\u001B[43m,\u001B[49m\u001B[43m \u001B[49m\u001B[43mepochs\u001B[49m\u001B[38;5;241;43m=\u001B[39;49m\u001B[38;5;241;43m6\u001B[39;49m\u001B[43m)\u001B[49m\n\u001B[0;32m      6\u001B[0m \u001B[38;5;66;03m#Prediction is in probability of news being real, so converting into classes\u001B[39;00m\n\u001B[0;32m      7\u001B[0m \u001B[38;5;66;03m# Class 0 (Fake) if predicted prob < 0.5, else class 1 (Real)\u001B[39;00m\n\u001B[0;32m      8\u001B[0m y_pred \u001B[38;5;241m=\u001B[39m (model\u001B[38;5;241m.\u001B[39mpredict(X_test) \u001B[38;5;241m>\u001B[39m\u001B[38;5;241m=\u001B[39m \u001B[38;5;241m0.5\u001B[39m)\u001B[38;5;241m.\u001B[39mastype(\u001B[38;5;124m\"\u001B[39m\u001B[38;5;124mint\u001B[39m\u001B[38;5;124m\"\u001B[39m)\n",
      "File \u001B[1;32m~\\miniconda3\\lib\\site-packages\\keras\\utils\\traceback_utils.py:65\u001B[0m, in \u001B[0;36mfilter_traceback.<locals>.error_handler\u001B[1;34m(*args, **kwargs)\u001B[0m\n\u001B[0;32m     63\u001B[0m filtered_tb \u001B[38;5;241m=\u001B[39m \u001B[38;5;28;01mNone\u001B[39;00m\n\u001B[0;32m     64\u001B[0m \u001B[38;5;28;01mtry\u001B[39;00m:\n\u001B[1;32m---> 65\u001B[0m     \u001B[38;5;28;01mreturn\u001B[39;00m fn(\u001B[38;5;241m*\u001B[39margs, \u001B[38;5;241m*\u001B[39m\u001B[38;5;241m*\u001B[39mkwargs)\n\u001B[0;32m     66\u001B[0m \u001B[38;5;28;01mexcept\u001B[39;00m \u001B[38;5;167;01mException\u001B[39;00m \u001B[38;5;28;01mas\u001B[39;00m e:\n\u001B[0;32m     67\u001B[0m     filtered_tb \u001B[38;5;241m=\u001B[39m _process_traceback_frames(e\u001B[38;5;241m.\u001B[39m__traceback__)\n",
      "File \u001B[1;32m~\\miniconda3\\lib\\site-packages\\keras\\engine\\training.py:1564\u001B[0m, in \u001B[0;36mModel.fit\u001B[1;34m(self, x, y, batch_size, epochs, verbose, callbacks, validation_split, validation_data, shuffle, class_weight, sample_weight, initial_epoch, steps_per_epoch, validation_steps, validation_batch_size, validation_freq, max_queue_size, workers, use_multiprocessing)\u001B[0m\n\u001B[0;32m   1556\u001B[0m \u001B[38;5;28;01mwith\u001B[39;00m tf\u001B[38;5;241m.\u001B[39mprofiler\u001B[38;5;241m.\u001B[39mexperimental\u001B[38;5;241m.\u001B[39mTrace(\n\u001B[0;32m   1557\u001B[0m     \u001B[38;5;124m\"\u001B[39m\u001B[38;5;124mtrain\u001B[39m\u001B[38;5;124m\"\u001B[39m,\n\u001B[0;32m   1558\u001B[0m     epoch_num\u001B[38;5;241m=\u001B[39mepoch,\n\u001B[1;32m   (...)\u001B[0m\n\u001B[0;32m   1561\u001B[0m     _r\u001B[38;5;241m=\u001B[39m\u001B[38;5;241m1\u001B[39m,\n\u001B[0;32m   1562\u001B[0m ):\n\u001B[0;32m   1563\u001B[0m     callbacks\u001B[38;5;241m.\u001B[39mon_train_batch_begin(step)\n\u001B[1;32m-> 1564\u001B[0m     tmp_logs \u001B[38;5;241m=\u001B[39m \u001B[38;5;28;43mself\u001B[39;49m\u001B[38;5;241;43m.\u001B[39;49m\u001B[43mtrain_function\u001B[49m\u001B[43m(\u001B[49m\u001B[43miterator\u001B[49m\u001B[43m)\u001B[49m\n\u001B[0;32m   1565\u001B[0m     \u001B[38;5;28;01mif\u001B[39;00m data_handler\u001B[38;5;241m.\u001B[39mshould_sync:\n\u001B[0;32m   1566\u001B[0m         context\u001B[38;5;241m.\u001B[39masync_wait()\n",
      "File \u001B[1;32m~\\miniconda3\\lib\\site-packages\\tensorflow\\python\\util\\traceback_utils.py:150\u001B[0m, in \u001B[0;36mfilter_traceback.<locals>.error_handler\u001B[1;34m(*args, **kwargs)\u001B[0m\n\u001B[0;32m    148\u001B[0m filtered_tb \u001B[38;5;241m=\u001B[39m \u001B[38;5;28;01mNone\u001B[39;00m\n\u001B[0;32m    149\u001B[0m \u001B[38;5;28;01mtry\u001B[39;00m:\n\u001B[1;32m--> 150\u001B[0m   \u001B[38;5;28;01mreturn\u001B[39;00m fn(\u001B[38;5;241m*\u001B[39margs, \u001B[38;5;241m*\u001B[39m\u001B[38;5;241m*\u001B[39mkwargs)\n\u001B[0;32m    151\u001B[0m \u001B[38;5;28;01mexcept\u001B[39;00m \u001B[38;5;167;01mException\u001B[39;00m \u001B[38;5;28;01mas\u001B[39;00m e:\n\u001B[0;32m    152\u001B[0m   filtered_tb \u001B[38;5;241m=\u001B[39m _process_traceback_frames(e\u001B[38;5;241m.\u001B[39m__traceback__)\n",
      "File \u001B[1;32m~\\miniconda3\\lib\\site-packages\\tensorflow\\python\\eager\\def_function.py:915\u001B[0m, in \u001B[0;36mFunction.__call__\u001B[1;34m(self, *args, **kwds)\u001B[0m\n\u001B[0;32m    912\u001B[0m compiler \u001B[38;5;241m=\u001B[39m \u001B[38;5;124m\"\u001B[39m\u001B[38;5;124mxla\u001B[39m\u001B[38;5;124m\"\u001B[39m \u001B[38;5;28;01mif\u001B[39;00m \u001B[38;5;28mself\u001B[39m\u001B[38;5;241m.\u001B[39m_jit_compile \u001B[38;5;28;01melse\u001B[39;00m \u001B[38;5;124m\"\u001B[39m\u001B[38;5;124mnonXla\u001B[39m\u001B[38;5;124m\"\u001B[39m\n\u001B[0;32m    914\u001B[0m \u001B[38;5;28;01mwith\u001B[39;00m OptionalXlaContext(\u001B[38;5;28mself\u001B[39m\u001B[38;5;241m.\u001B[39m_jit_compile):\n\u001B[1;32m--> 915\u001B[0m   result \u001B[38;5;241m=\u001B[39m \u001B[38;5;28mself\u001B[39m\u001B[38;5;241m.\u001B[39m_call(\u001B[38;5;241m*\u001B[39margs, \u001B[38;5;241m*\u001B[39m\u001B[38;5;241m*\u001B[39mkwds)\n\u001B[0;32m    917\u001B[0m new_tracing_count \u001B[38;5;241m=\u001B[39m \u001B[38;5;28mself\u001B[39m\u001B[38;5;241m.\u001B[39mexperimental_get_tracing_count()\n\u001B[0;32m    918\u001B[0m without_tracing \u001B[38;5;241m=\u001B[39m (tracing_count \u001B[38;5;241m==\u001B[39m new_tracing_count)\n",
      "File \u001B[1;32m~\\miniconda3\\lib\\site-packages\\tensorflow\\python\\eager\\def_function.py:980\u001B[0m, in \u001B[0;36mFunction._call\u001B[1;34m(self, *args, **kwds)\u001B[0m\n\u001B[0;32m    976\u001B[0m     \u001B[38;5;28;01mpass\u001B[39;00m  \u001B[38;5;66;03m# Fall through to cond-based initialization.\u001B[39;00m\n\u001B[0;32m    977\u001B[0m   \u001B[38;5;28;01melse\u001B[39;00m:\n\u001B[0;32m    978\u001B[0m     \u001B[38;5;66;03m# Lifting succeeded, so variables are initialized and we can run the\u001B[39;00m\n\u001B[0;32m    979\u001B[0m     \u001B[38;5;66;03m# stateless function.\u001B[39;00m\n\u001B[1;32m--> 980\u001B[0m     \u001B[38;5;28;01mreturn\u001B[39;00m \u001B[38;5;28mself\u001B[39m\u001B[38;5;241m.\u001B[39m_stateless_fn(\u001B[38;5;241m*\u001B[39margs, \u001B[38;5;241m*\u001B[39m\u001B[38;5;241m*\u001B[39mkwds)\n\u001B[0;32m    981\u001B[0m \u001B[38;5;28;01melse\u001B[39;00m:\n\u001B[0;32m    982\u001B[0m   _, _, filtered_flat_args \u001B[38;5;241m=\u001B[39m (\n\u001B[0;32m    983\u001B[0m       \u001B[38;5;28mself\u001B[39m\u001B[38;5;241m.\u001B[39m_stateful_fn\u001B[38;5;241m.\u001B[39m_function_spec\u001B[38;5;241m.\u001B[39mcanonicalize_function_inputs(  \u001B[38;5;66;03m# pylint: disable=protected-access\u001B[39;00m\n\u001B[0;32m    984\u001B[0m           \u001B[38;5;241m*\u001B[39margs, \u001B[38;5;241m*\u001B[39m\u001B[38;5;241m*\u001B[39mkwds))\n",
      "File \u001B[1;32m~\\miniconda3\\lib\\site-packages\\tensorflow\\python\\eager\\function.py:2496\u001B[0m, in \u001B[0;36mFunction.__call__\u001B[1;34m(self, *args, **kwargs)\u001B[0m\n\u001B[0;32m   2493\u001B[0m \u001B[38;5;28;01mwith\u001B[39;00m \u001B[38;5;28mself\u001B[39m\u001B[38;5;241m.\u001B[39m_lock:\n\u001B[0;32m   2494\u001B[0m   (graph_function,\n\u001B[0;32m   2495\u001B[0m    filtered_flat_args) \u001B[38;5;241m=\u001B[39m \u001B[38;5;28mself\u001B[39m\u001B[38;5;241m.\u001B[39m_maybe_define_function(args, kwargs)\n\u001B[1;32m-> 2496\u001B[0m \u001B[38;5;28;01mreturn\u001B[39;00m \u001B[43mgraph_function\u001B[49m\u001B[38;5;241;43m.\u001B[39;49m\u001B[43m_call_flat\u001B[49m\u001B[43m(\u001B[49m\n\u001B[0;32m   2497\u001B[0m \u001B[43m    \u001B[49m\u001B[43mfiltered_flat_args\u001B[49m\u001B[43m,\u001B[49m\u001B[43m \u001B[49m\u001B[43mcaptured_inputs\u001B[49m\u001B[38;5;241;43m=\u001B[39;49m\u001B[43mgraph_function\u001B[49m\u001B[38;5;241;43m.\u001B[39;49m\u001B[43mcaptured_inputs\u001B[49m\u001B[43m)\u001B[49m\n",
      "File \u001B[1;32m~\\miniconda3\\lib\\site-packages\\tensorflow\\python\\eager\\function.py:1862\u001B[0m, in \u001B[0;36mConcreteFunction._call_flat\u001B[1;34m(self, args, captured_inputs, cancellation_manager)\u001B[0m\n\u001B[0;32m   1858\u001B[0m possible_gradient_type \u001B[38;5;241m=\u001B[39m gradients_util\u001B[38;5;241m.\u001B[39mPossibleTapeGradientTypes(args)\n\u001B[0;32m   1859\u001B[0m \u001B[38;5;28;01mif\u001B[39;00m (possible_gradient_type \u001B[38;5;241m==\u001B[39m gradients_util\u001B[38;5;241m.\u001B[39mPOSSIBLE_GRADIENT_TYPES_NONE\n\u001B[0;32m   1860\u001B[0m     \u001B[38;5;129;01mand\u001B[39;00m executing_eagerly):\n\u001B[0;32m   1861\u001B[0m   \u001B[38;5;66;03m# No tape is watching; skip to running the function.\u001B[39;00m\n\u001B[1;32m-> 1862\u001B[0m   \u001B[38;5;28;01mreturn\u001B[39;00m \u001B[38;5;28mself\u001B[39m\u001B[38;5;241m.\u001B[39m_build_call_outputs(\u001B[38;5;28;43mself\u001B[39;49m\u001B[38;5;241;43m.\u001B[39;49m\u001B[43m_inference_function\u001B[49m\u001B[38;5;241;43m.\u001B[39;49m\u001B[43mcall\u001B[49m\u001B[43m(\u001B[49m\n\u001B[0;32m   1863\u001B[0m \u001B[43m      \u001B[49m\u001B[43mctx\u001B[49m\u001B[43m,\u001B[49m\u001B[43m \u001B[49m\u001B[43margs\u001B[49m\u001B[43m,\u001B[49m\u001B[43m \u001B[49m\u001B[43mcancellation_manager\u001B[49m\u001B[38;5;241;43m=\u001B[39;49m\u001B[43mcancellation_manager\u001B[49m\u001B[43m)\u001B[49m)\n\u001B[0;32m   1864\u001B[0m forward_backward \u001B[38;5;241m=\u001B[39m \u001B[38;5;28mself\u001B[39m\u001B[38;5;241m.\u001B[39m_select_forward_and_backward_functions(\n\u001B[0;32m   1865\u001B[0m     args,\n\u001B[0;32m   1866\u001B[0m     possible_gradient_type,\n\u001B[0;32m   1867\u001B[0m     executing_eagerly)\n\u001B[0;32m   1868\u001B[0m forward_function, args_with_tangents \u001B[38;5;241m=\u001B[39m forward_backward\u001B[38;5;241m.\u001B[39mforward()\n",
      "File \u001B[1;32m~\\miniconda3\\lib\\site-packages\\tensorflow\\python\\eager\\function.py:499\u001B[0m, in \u001B[0;36m_EagerDefinedFunction.call\u001B[1;34m(self, ctx, args, cancellation_manager)\u001B[0m\n\u001B[0;32m    497\u001B[0m \u001B[38;5;28;01mwith\u001B[39;00m _InterpolateFunctionError(\u001B[38;5;28mself\u001B[39m):\n\u001B[0;32m    498\u001B[0m   \u001B[38;5;28;01mif\u001B[39;00m cancellation_manager \u001B[38;5;129;01mis\u001B[39;00m \u001B[38;5;28;01mNone\u001B[39;00m:\n\u001B[1;32m--> 499\u001B[0m     outputs \u001B[38;5;241m=\u001B[39m \u001B[43mexecute\u001B[49m\u001B[38;5;241;43m.\u001B[39;49m\u001B[43mexecute\u001B[49m\u001B[43m(\u001B[49m\n\u001B[0;32m    500\u001B[0m \u001B[43m        \u001B[49m\u001B[38;5;28;43mstr\u001B[39;49m\u001B[43m(\u001B[49m\u001B[38;5;28;43mself\u001B[39;49m\u001B[38;5;241;43m.\u001B[39;49m\u001B[43msignature\u001B[49m\u001B[38;5;241;43m.\u001B[39;49m\u001B[43mname\u001B[49m\u001B[43m)\u001B[49m\u001B[43m,\u001B[49m\n\u001B[0;32m    501\u001B[0m \u001B[43m        \u001B[49m\u001B[43mnum_outputs\u001B[49m\u001B[38;5;241;43m=\u001B[39;49m\u001B[38;5;28;43mself\u001B[39;49m\u001B[38;5;241;43m.\u001B[39;49m\u001B[43m_num_outputs\u001B[49m\u001B[43m,\u001B[49m\n\u001B[0;32m    502\u001B[0m \u001B[43m        \u001B[49m\u001B[43minputs\u001B[49m\u001B[38;5;241;43m=\u001B[39;49m\u001B[43margs\u001B[49m\u001B[43m,\u001B[49m\n\u001B[0;32m    503\u001B[0m \u001B[43m        \u001B[49m\u001B[43mattrs\u001B[49m\u001B[38;5;241;43m=\u001B[39;49m\u001B[43mattrs\u001B[49m\u001B[43m,\u001B[49m\n\u001B[0;32m    504\u001B[0m \u001B[43m        \u001B[49m\u001B[43mctx\u001B[49m\u001B[38;5;241;43m=\u001B[39;49m\u001B[43mctx\u001B[49m\u001B[43m)\u001B[49m\n\u001B[0;32m    505\u001B[0m   \u001B[38;5;28;01melse\u001B[39;00m:\n\u001B[0;32m    506\u001B[0m     outputs \u001B[38;5;241m=\u001B[39m execute\u001B[38;5;241m.\u001B[39mexecute_with_cancellation(\n\u001B[0;32m    507\u001B[0m         \u001B[38;5;28mstr\u001B[39m(\u001B[38;5;28mself\u001B[39m\u001B[38;5;241m.\u001B[39msignature\u001B[38;5;241m.\u001B[39mname),\n\u001B[0;32m    508\u001B[0m         num_outputs\u001B[38;5;241m=\u001B[39m\u001B[38;5;28mself\u001B[39m\u001B[38;5;241m.\u001B[39m_num_outputs,\n\u001B[1;32m   (...)\u001B[0m\n\u001B[0;32m    511\u001B[0m         ctx\u001B[38;5;241m=\u001B[39mctx,\n\u001B[0;32m    512\u001B[0m         cancellation_manager\u001B[38;5;241m=\u001B[39mcancellation_manager)\n",
      "File \u001B[1;32m~\\miniconda3\\lib\\site-packages\\tensorflow\\python\\eager\\execute.py:54\u001B[0m, in \u001B[0;36mquick_execute\u001B[1;34m(op_name, num_outputs, inputs, attrs, ctx, name)\u001B[0m\n\u001B[0;32m     52\u001B[0m \u001B[38;5;28;01mtry\u001B[39;00m:\n\u001B[0;32m     53\u001B[0m   ctx\u001B[38;5;241m.\u001B[39mensure_initialized()\n\u001B[1;32m---> 54\u001B[0m   tensors \u001B[38;5;241m=\u001B[39m \u001B[43mpywrap_tfe\u001B[49m\u001B[38;5;241;43m.\u001B[39;49m\u001B[43mTFE_Py_Execute\u001B[49m\u001B[43m(\u001B[49m\u001B[43mctx\u001B[49m\u001B[38;5;241;43m.\u001B[39;49m\u001B[43m_handle\u001B[49m\u001B[43m,\u001B[49m\u001B[43m \u001B[49m\u001B[43mdevice_name\u001B[49m\u001B[43m,\u001B[49m\u001B[43m \u001B[49m\u001B[43mop_name\u001B[49m\u001B[43m,\u001B[49m\n\u001B[0;32m     55\u001B[0m \u001B[43m                                      \u001B[49m\u001B[43minputs\u001B[49m\u001B[43m,\u001B[49m\u001B[43m \u001B[49m\u001B[43mattrs\u001B[49m\u001B[43m,\u001B[49m\u001B[43m \u001B[49m\u001B[43mnum_outputs\u001B[49m\u001B[43m)\u001B[49m\n\u001B[0;32m     56\u001B[0m \u001B[38;5;28;01mexcept\u001B[39;00m core\u001B[38;5;241m.\u001B[39m_NotOkStatusException \u001B[38;5;28;01mas\u001B[39;00m e:\n\u001B[0;32m     57\u001B[0m   \u001B[38;5;28;01mif\u001B[39;00m name \u001B[38;5;129;01mis\u001B[39;00m \u001B[38;5;129;01mnot\u001B[39;00m \u001B[38;5;28;01mNone\u001B[39;00m:\n",
      "\u001B[1;31mKeyboardInterrupt\u001B[0m: "
     ]
    }
   ],
   "source": [
    "for n in range(31):\n",
    "    print(\"Processing iteration \" + str(n))\n",
    "    X_train, X_test, y_train, y_test = split(X, y, n)\n",
    "    model = build_model(embedding_vectors, EMBEDDING_DIM, vocab_size, maxlen)\n",
    "    model.fit(X_train, y_train, validation_split=0.3, epochs=6)\n",
    "    #Prediction is in probability of news being real, so converting into classes\n",
    "    # Class 0 (Fake) if predicted prob < 0.5, else class 1 (Real)\n",
    "    y_pred = (model.predict(X_test) >= 0.5).astype(\"int\")\n",
    "    # add y_test and y_pred to result for later use\n",
    "    acc = accuracy_score(y_test, y_pred)\n",
    "    prec = precision_score(y_test, y_pred)\n",
    "    rec = recall_score(y_test, y_pred)\n",
    "    f1 = f1_score(y_test, y_pred)\n",
    "\n",
    "    result.append((acc, prec, rec, f1))"
   ],
   "metadata": {
    "collapsed": false
   }
  },
  {
   "cell_type": "code",
   "execution_count": 92,
   "outputs": [],
   "source": [
    "# save the result\n",
    "column_names = ['Accuracy', 'Precision', 'Recall', 'F1']\n",
    "df = pd.DataFrame(result, columns=column_names)\n",
    "df.to_csv('result.csv', index=False, header=True)"
   ],
   "metadata": {
    "collapsed": false
   }
  },
  {
   "cell_type": "code",
   "execution_count": 217,
   "outputs": [],
   "source": [
    "del model\n",
    "del embedding_vectors"
   ],
   "metadata": {
    "collapsed": false
   }
  }
 ],
 "metadata": {
  "kernelspec": {
   "display_name": "Python 3",
   "language": "python",
   "name": "python3"
  },
  "language_info": {
   "codemirror_mode": {
    "name": "ipython",
    "version": 2
   },
   "file_extension": ".py",
   "mimetype": "text/x-python",
   "name": "python",
   "nbconvert_exporter": "python",
   "pygments_lexer": "ipython2",
   "version": "2.7.6"
  }
 },
 "nbformat": 4,
 "nbformat_minor": 0
}
