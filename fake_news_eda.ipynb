{
 "cells": [
  {
   "cell_type": "code",
   "execution_count": 1,
   "metadata": {
    "collapsed": true
   },
   "outputs": [],
   "source": [
    "import pandas as pd\n",
    "import seaborn as sns\n",
    "import matplotlib.pyplot as plt"
   ]
  },
  {
   "cell_type": "markdown",
   "source": [
    "# Exploratory Data Analysis\n",
    "\n",
    "The main purpose of this section is to see whether there is a difference in hashtag use between fake and true tweets to begin with."
   ],
   "metadata": {
    "collapsed": false
   }
  },
  {
   "cell_type": "code",
   "execution_count": 2,
   "outputs": [],
   "source": [
    "fake = pd.read_csv(\"./data/Fake.csv\")\n",
    "real = pd.read_csv(\"./data/True.csv\")"
   ],
   "metadata": {
    "collapsed": false
   }
  },
  {
   "cell_type": "code",
   "execution_count": 3,
   "outputs": [
    {
     "data": {
      "text/plain": "<Figure size 432x288 with 1 Axes>",
      "image/png": "[encoded data removed]"
     },
     "metadata": {},
     "output_type": "display_data"
    },
    {
     "name": "stdout",
     "output_type": "stream",
     "text": [
      "[23481, 21417]\n"
     ]
    }
   ],
   "source": [
    "size = [len(fake), len(real)]\n",
    "colors = sns.color_palette('pastel')[0:2]\n",
    "plt.pie(size, labels = ['fake','real'], colors=colors, startangle=90, autopct='%.0f%%')\n",
    "plt.show()\n",
    "\n",
    "print(size)"
   ],
   "metadata": {
    "collapsed": false
   }
  },
  {
   "cell_type": "markdown",
   "source": [
    "The balance is quite even. There are 2% more fake tweets than real tweets."
   ],
   "metadata": {
    "collapsed": false
   }
  },
  {
   "cell_type": "code",
   "execution_count": 4,
   "outputs": [],
   "source": [
    "# add column with the hashtag count for a row. This will enable us to create a histogram\n",
    "fake['hashtag_count'] = fake['text'].str.count('#')\n",
    "real['hashtag_count'] = real['text'].str.count('#')"
   ],
   "metadata": {
    "collapsed": false
   }
  },
  {
   "cell_type": "code",
   "execution_count": 5,
   "outputs": [
    {
     "name": "stdout",
     "output_type": "stream",
     "text": [
      "Hashtag count in fake:8191\n",
      "Hashtag count in real:442\n"
     ]
    }
   ],
   "source": [
    "print('Hashtag count in fake:' + str(fake['hashtag_count'].sum()))\n",
    "print('Hashtag count in real:' + str(real['hashtag_count'].sum()))"
   ],
   "metadata": {
    "collapsed": false
   }
  },
  {
   "cell_type": "markdown",
   "source": [
    "There is an order of magnitude difference in the use of hashtags, so further investigation is justified."
   ],
   "metadata": {
    "collapsed": false
   }
  },
  {
   "cell_type": "code",
   "execution_count": 6,
   "outputs": [
    {
     "name": "stdout",
     "output_type": "stream",
     "text": [
      "Max hashtag count in fake:53\n",
      "Max hashtag count in real:13\n"
     ]
    }
   ],
   "source": [
    "print('Max hashtag count in fake:' + str(fake['hashtag_count'].max()))\n",
    "print('Max hashtag count in real:' + str(real['hashtag_count'].max()))"
   ],
   "metadata": {
    "collapsed": false
   }
  },
  {
   "cell_type": "markdown",
   "source": [
    "The fake tweets have a high maximum in the use of hashtags. This could be an outlier, so let's look at the frequency table:'"
   ],
   "metadata": {
    "collapsed": false
   }
  },
  {
   "cell_type": "code",
   "execution_count": 7,
   "outputs": [
    {
     "name": "stdout",
     "output_type": "stream",
     "text": [
      "hashtag_count\n",
      "0     20341\n",
      "1      1529\n",
      "2       695\n",
      "3       343\n",
      "4       182\n",
      "5       104\n",
      "6        74\n",
      "7        41\n",
      "8        32\n",
      "9        27\n",
      "10       18\n",
      "11       17\n",
      "12        7\n",
      "13       10\n",
      "14        8\n",
      "15       14\n",
      "16       11\n",
      "17        4\n",
      "18        2\n",
      "19        2\n",
      "21        2\n",
      "22        2\n",
      "23        1\n",
      "24        3\n",
      "25        3\n",
      "26        1\n",
      "27        3\n",
      "29        2\n",
      "35        2\n",
      "53        1\n",
      "dtype: int64\n"
     ]
    }
   ],
   "source": [
    "freq_fake = fake.groupby('hashtag_count').size()\n",
    "print(freq_fake)"
   ],
   "metadata": {
    "collapsed": false
   }
  },
  {
   "cell_type": "markdown",
   "source": [
    "The fake tweets frequency table seems to have a long tail, but 53 may indeed be seen as an outlier. However, as we will remove the hashtags in the modified datasets, we chose to leave it in."
   ],
   "metadata": {
    "collapsed": false
   }
  },
  {
   "cell_type": "code",
   "execution_count": 9,
   "outputs": [
    {
     "data": {
      "text/plain": "                                                 title  \\\n601   #TrumpChicken Is Now Trending And These Tweet...   \n\n                                                  text subject  \\\n601  Earlier today, CBS News and other outlets noti...    News   \n\n               date  hashtag_count  \n601  August 9, 2017             53  ",
      "text/html": "<div>\n<style scoped>\n    .dataframe tbody tr th:only-of-type {\n        vertical-align: middle;\n    }\n\n    .dataframe tbody tr th {\n        vertical-align: top;\n    }\n\n    .dataframe thead th {\n        text-align: right;\n    }\n</style>\n<table border=\"1\" class=\"dataframe\">\n  <thead>\n    <tr style=\"text-align: right;\">\n      <th></th>\n      <th>title</th>\n      <th>text</th>\n      <th>subject</th>\n      <th>date</th>\n      <th>hashtag_count</th>\n    </tr>\n  </thead>\n  <tbody>\n    <tr>\n      <th>601</th>\n      <td>#TrumpChicken Is Now Trending And These Tweet...</td>\n      <td>Earlier today, CBS News and other outlets noti...</td>\n      <td>News</td>\n      <td>August 9, 2017</td>\n      <td>53</td>\n    </tr>\n  </tbody>\n</table>\n</div>"
     },
     "execution_count": 9,
     "metadata": {},
     "output_type": "execute_result"
    }
   ],
   "source": [
    "# which one is it anyway?\n",
    "outlier_df = fake[fake['hashtag_count'] > 35]\n",
    "outlier_df.head()"
   ],
   "metadata": {
    "collapsed": false
   }
  },
  {
   "cell_type": "markdown",
   "source": [
    "According to MS Word, this tweet has 644 words. There is an additional outlier cleaning step in the notebook fake_news_lstm, which caps the total word size after tokenization to 700.\n",
    "\n",
    "It is possible that this one is culled (depending on how word2vec actually works), but we cannot be sure. Either way, we do not expect a serious negative effect of this one"
   ],
   "metadata": {
    "collapsed": false
   }
  },
  {
   "cell_type": "markdown",
   "source": [
    "Do the same for the real tweets"
   ],
   "metadata": {
    "collapsed": false
   }
  },
  {
   "cell_type": "code",
   "execution_count": 51,
   "outputs": [
    {
     "name": "stdout",
     "output_type": "stream",
     "text": [
      "hashtag_count\n",
      "0     21175\n",
      "1       158\n",
      "2        41\n",
      "3        19\n",
      "4        10\n",
      "5         3\n",
      "6         3\n",
      "7         2\n",
      "8         1\n",
      "9         3\n",
      "10        1\n",
      "13        1\n",
      "dtype: int64\n"
     ]
    }
   ],
   "source": [
    "freq_true = real.groupby('hashtag_count').size()\n",
    "print(freq_true)"
   ],
   "metadata": {
    "collapsed": false
   }
  },
  {
   "cell_type": "markdown",
   "source": [
    "The true tweets also show a long tail, and 13 does not really look like an outlier, so we leave it in"
   ],
   "metadata": {
    "collapsed": false
   }
  },
  {
   "cell_type": "code",
   "execution_count": 52,
   "outputs": [
    {
     "data": {
      "text/plain": "<Axes: xlabel='hashtag_count', ylabel='Count'>"
     },
     "execution_count": 52,
     "metadata": {},
     "output_type": "execute_result"
    },
    {
     "data": {
      "text/plain": "<Figure size 432x288 with 1 Axes>",
      "image/png": "[encoded data removed]"
     },
     "metadata": {},
     "output_type": "display_data"
    }
   ],
   "source": [
    "# the vast majority of the tweets do not carry a hashtag, which makes a histogram a little obscure.\n",
    "# For the report, better use the frequency table\n",
    "sns.histplot(data=fake, x= 'hashtag_count', bins=54)"
   ],
   "metadata": {
    "collapsed": false
   }
  },
  {
   "cell_type": "code",
   "execution_count": 53,
   "outputs": [
    {
     "data": {
      "text/plain": "<Axes: xlabel='hashtag_count', ylabel='Count'>"
     },
     "execution_count": 53,
     "metadata": {},
     "output_type": "execute_result"
    },
    {
     "data": {
      "text/plain": "<Figure size 432x288 with 1 Axes>",
      "image/png": "[encoded data removed]"
     },
     "metadata": {},
     "output_type": "display_data"
    }
   ],
   "source": [
    "# same for the true dataset.\n",
    "sns.histplot(data=real, x='hashtag_count', bins=14)"
   ],
   "metadata": {
    "collapsed": false
   }
  },
  {
   "cell_type": "code",
   "execution_count": null,
   "outputs": [],
   "source": [],
   "metadata": {
    "collapsed": false
   }
  }
 ],
 "metadata": {
  "kernelspec": {
   "display_name": "Python 3",
   "language": "python",
   "name": "python3"
  },
  "language_info": {
   "codemirror_mode": {
    "name": "ipython",
    "version": 2
   },
   "file_extension": ".py",
   "mimetype": "text/x-python",
   "name": "python",
   "nbconvert_exporter": "python",
   "pygments_lexer": "ipython2",
   "version": "2.7.6"
  }
 },
 "nbformat": 4,
 "nbformat_minor": 0
}
